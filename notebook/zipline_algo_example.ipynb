{
 "cells": [
  {
   "cell_type": "markdown",
   "metadata": {},
   "source": [
    "Here's an example where we run an algorithm with zipline, then produce tear sheets for that algorithm."
   ]
  },
  {
   "cell_type": "code",
   "execution_count": 1,
   "metadata": {
    "collapsed": false
   },
   "outputs": [
    {
     "name": "stdout",
     "output_type": "stream",
     "text": [
      "zipline 1.0.2\n",
      "pandas 0.16.2\n"
     ]
    }
   ],
   "source": [
    "%matplotlib inline\n",
    "import zipline\n",
    "import pandas as pd\n",
    "\n",
    "print \"zipline {0}\".format(zipline.__version__)\n",
    "print \"pandas {0}\".format(pd.__version__)"
   ]
  },
  {
   "cell_type": "code",
   "execution_count": 2,
   "metadata": {
    "collapsed": false
   },
   "outputs": [
    {
     "name": "stderr",
     "output_type": "stream",
     "text": [
      "ERROR: Cell magic `%%zipline` not found.\n"
     ]
    }
   ],
   "source": [
    "%%zipline --start=2011-1-1 --end=2013-1-1 -o perf\n",
    "\n",
    "from zipline.api import order, record, symbol\n",
    "import matplotlib.pyplot as plt\n",
    "\n",
    "def initialize(context):\n",
    "    pass\n",
    "\n",
    "def handle_data(context, data):\n",
    "    order(symbol('AAPL'), 10)\n",
    "    record(AAPL=data[symbol('AAPL')].price)\n",
    "    \n",
    "def analyze(context, perf):\n",
    "    ax1 = plt.subplot(211)\n",
    "    perf.portfolio_value.plot(ax=ax1)\n",
    "    ax2 = plt.subplot(212, sharex=ax1)\n",
    "    perf.AAPL.plot(ax=ax2)\n",
    "    plt.gcf().set_size_inches(18, 8)\n",
    "    plt.show()"
   ]
  },
  {
   "cell_type": "code",
   "execution_count": 3,
   "metadata": {
    "collapsed": true
   },
   "outputs": [],
   "source": [
    "# zipline + scrapy_giant + pyfolio\n",
    "\n",
    "%matplotlib inline\n",
    "\n",
    "# default lib import\n",
    "import sys\n",
    "import logbook\n",
    "import numpy as np\n",
    "import pandas as pd\n",
    "from datetime import datetime, timedelta\n",
    "from collections import deque\n",
    "import pytz\n",
    "import traceback"
   ]
  },
  {
   "cell_type": "code",
   "execution_count": 4,
   "metadata": {
    "collapsed": true
   },
   "outputs": [],
   "source": [
    "# pyfolio and zipline import\n",
    "import pyfolio as pf\n",
    "\n",
    "from zipline.algorithm import TradingAlgorithm\n",
    "from zipline.api import (\n",
    "    FixedSlippage,\n",
    "    order,\n",
    "    set_slippage,\n",
    "    record,\n",
    "    sid,\n",
    ")\n",
    "from zipline.utils.factory import load_from_yahoo\n",
    "from zipline.finance import commission\n",
    "from zipline.utils.factory import *\n",
    "from zipline.finance.trading import SimulationParameters"
   ]
  },
  {
   "cell_type": "code",
   "execution_count": 5,
   "metadata": {
    "collapsed": false
   },
   "outputs": [
    {
     "name": "stdout",
     "output_type": "stream",
     "text": [
      "                            AMD\n",
      "Date                           \n",
      "2016-09-01 00:00:00+00:00  7.35\n",
      "2016-09-02 00:00:00+00:00  7.51\n",
      "2016-09-06 00:00:00+00:00  7.34\n",
      "2016-09-07 00:00:00+00:00  6.84\n"
     ]
    }
   ],
   "source": [
    "STOCKS = ['AMD']\n",
    "start = datetime.utcnow() - timedelta(days=20)\n",
    "end = datetime.utcnow() - timedelta(days=10)\n",
    "data = load_from_yahoo(stocks=STOCKS, indexes={}, start=start, end=end)\n",
    "data = data.dropna()\n",
    "print data.tail(4)"
   ]
  },
  {
   "cell_type": "code",
   "execution_count": 6,
   "metadata": {
    "collapsed": false
   },
   "outputs": [
    {
     "data": {
      "text/plain": [
       "<matplotlib.text.Text at 0x1079c8490>"
      ]
     },
     "execution_count": 6,
     "metadata": {},
     "output_type": "execute_result"
    },
    {
     "name": "stderr",
     "output_type": "stream",
     "text": [
      "/Users/seanchen/anaconda2/lib/python2.7/site-packages/matplotlib/collections.py:590: FutureWarning: elementwise comparison failed; returning scalar instead, but in the future will perform elementwise comparison\n",
      "  if self._edgecolors == str('face'):\n"
     ]
    },
    {
     "data": {
      "image/png": "[encoded data removed]",
      "text/plain": [
       "<matplotlib.figure.Figure at 0x10b095290>"
      ]
     },
     "metadata": {},
     "output_type": "display_data"
    }
   ],
   "source": [
    "# Create and run the algorithm by calling func binded\n",
    "def initialize(algo):\n",
    "    algo.stock = 'AMD'\n",
    "    algo.asset = algo.symbol(algo.stock)\n",
    "    \n",
    "def handle_data(algo, data):\n",
    "    algo.order(algo.asset, 1000)\n",
    "    \n",
    "def_alg = TradingAlgorithm(handle_data=handle_data, initialize=initialize)\n",
    "results = def_alg.run(data)\n",
    "returns, positions, transactions, gross_lev = pf.utils.extract_rets_pos_txn_from_zipline(results)\n",
    "pf.plot_drawdown_periods(returns, top=5).set_xlabel('Date')"
   ]
  },
  {
   "cell_type": "code",
   "execution_count": 7,
   "metadata": {
    "collapsed": false
   },
   "outputs": [
    {
     "name": "stdout",
     "output_type": "stream",
     "text": [
      "                           2317.TW\n",
      "Date                              \n",
      "2016-09-02 00:00:00+00:00     77.2\n",
      "2016-09-05 00:00:00+00:00     78.3\n",
      "2016-09-06 00:00:00+00:00     79.7\n",
      "2016-09-07 00:00:00+00:00     79.6\n"
     ]
    }
   ],
   "source": [
    "STOCKS = ['2317.TW']\n",
    "start = datetime.utcnow() - timedelta(days=20)\n",
    "end = datetime.utcnow() - timedelta(days=10)\n",
    "data = load_from_yahoo(stocks=STOCKS, indexes={}, start=start, end=end)\n",
    "data = data.dropna()\n",
    "print data.tail(4)"
   ]
  },
  {
   "cell_type": "code",
   "execution_count": 8,
   "metadata": {
    "collapsed": false
   },
   "outputs": [
    {
     "data": {
      "text/plain": [
       "<matplotlib.text.Text at 0x117571fd0>"
      ]
     },
     "execution_count": 8,
     "metadata": {},
     "output_type": "execute_result"
    },
    {
     "data": {
      "image/png": "[encoded data removed]",
      "text/plain": [
       "<matplotlib.figure.Figure at 0x1079c8d50>"
      ]
     },
     "metadata": {},
     "output_type": "display_data"
    }
   ],
   "source": [
    "# extend basic alg to top\n",
    "class TestAlgorithm(TradingAlgorithm):\n",
    "    \n",
    "    def __init__(self, *args, **kwargs):\n",
    "        super(TestAlgorithm, self).__init__(args, kwargs)\n",
    "        self.ssid = kwargs.pop('symbol', '2317.TW')\n",
    "        self.amount = kwargs.pop('amount', 1000)\n",
    "\n",
    "    def initialize(self, *args, **kwargs):\n",
    "        super(TestAlgorithm, self).initialize(args, kwargs)\n",
    "        self.asset = self.symbol(self.ssid)\n",
    "    \n",
    "    def handle_data(self, data):\n",
    "        super(TestAlgorithm, self).handle_data(data)\n",
    "        self.order(self.asset, self.amount)\n",
    "\n",
    "test_alg = TestAlgorithm()\n",
    "results = test_alg.run(data)\n",
    "returns, positions, transactions, gross_lev = pf.utils.extract_rets_pos_txn_from_zipline(results)\n",
    "pf.plot_drawdown_periods(returns, top=5).set_xlabel('Date')"
   ]
  },
  {
   "cell_type": "code",
   "execution_count": 9,
   "metadata": {
    "collapsed": true
   },
   "outputs": [],
   "source": [
    "# scrapy_giant import\n",
    "import talib\n",
    "import traceback\n",
    "from IPython.display import display, HTML\n",
    "\n",
    "from bin.mongodb_driver import *\n",
    "from bin.start import *\n",
    "\n",
    "from handler.tasks import collect_hisframe\n",
    "from handler.hisdb_handler import TwseHisDBHandler, OtcHisDBHandler\n",
    "from handler.iddb_handler import TwseIdDBHandler, OtcIdDBHandler\n",
    "\n",
    "from algorithm.report import Report\n",
    "from algorithm.register import AlgRegister"
   ]
  },
  {
   "cell_type": "code",
   "execution_count": 10,
   "metadata": {
    "collapsed": false
   },
   "outputs": [
    {
     "name": "stdout",
     "output_type": "stream",
     "text": [
      "                           close  high   low  open  price  volume\n",
      "2016-09-02 00:00:00+00:00   77.2  77.9  76.3  76.6   77.2  158664\n",
      "2016-09-05 00:00:00+00:00   78.2  78.4  77.6  77.9   78.2   44625\n",
      "2016-09-06 00:00:00+00:00   79.8  79.9  78.6  78.8   79.8   51022\n",
      "2016-09-07 00:00:00+00:00   79.5  80.8  79.5  80.4   79.5   59399\n"
     ]
    },
    {
     "data": {
      "text/plain": [
       "<matplotlib.text.Text at 0x116eebdd0>"
      ]
     },
     "execution_count": 10,
     "metadata": {},
     "output_type": "execute_result"
    },
    {
     "data": {
      "image/png": "[encoded data removed]",
      "text/plain": [
       "<matplotlib.figure.Figure at 0x1141d70d0>"
      ]
     },
     "metadata": {},
     "output_type": "display_data"
    }
   ],
   "source": [
    "starttime = datetime.utcnow() - timedelta(days=20)\n",
    "endtime = datetime.utcnow() - timedelta(days=10)\n",
    "stockids = ['2317']\n",
    "\n",
    "# use scrapy_giant as input \n",
    "kwargs = {\n",
    "    'opt': 'twse',\n",
    "    'targets': ['stock'],\n",
    "    'starttime': starttime,\n",
    "    'endtime': endtime,\n",
    "    'stockids': stockids,\n",
    "    'traderids': [],\n",
    "    'base': 'stock',\n",
    "    'callback': None,\n",
    "    'limit': 1,\n",
    "    'debug': True\n",
    "}\n",
    "panel, dbhandler = collect_hisframe(**kwargs)\n",
    "print panel['2317'].tail(4) \n",
    "\n",
    "test_alg = TestAlgorithm(**{'symbol':'2317'})\n",
    "results = test_alg.run(panel)\n",
    "returns, positions, transactions, gross_lev = pf.utils.extract_rets_pos_txn_from_zipline(results)\n",
    "pf.plot_drawdown_periods(returns, top=5).set_xlabel('Date')"
   ]
  },
  {
   "cell_type": "code",
   "execution_count": 11,
   "metadata": {
    "collapsed": false
   },
   "outputs": [],
   "source": [
    "class DualEMA(TradingAlgorithm):\n",
    "    \"\"\" Dual Moving Average Crossover algorithm\n",
    "    \"\"\"\n",
    "\n",
    "    def __init__(self, dbhandler, *args, **kwargs):\n",
    "        self._debug = kwargs.pop('debug', False)\n",
    "        self._cfg = {\n",
    "            'buf_win': kwargs.pop('buf_win', 30),\n",
    "            'buy_hold': kwargs.pop('buy_hold', 5),\n",
    "            'sell_hold': kwargs.pop('sell_hold', 5),\n",
    "            'buy_amount': kwargs.pop('buy_amount', 1000),\n",
    "            'sell_amount': kwargs.pop('sell_amount', 1000),\n",
    "            'short_ema_win': kwargs.pop('short_ema_win', 7),\n",
    "            'long_ema_win': kwargs.pop('long_ema_win', 20),\n",
    "            'trend_up': kwargs.pop('trend_up', True),\n",
    "            'trend_down': kwargs.pop('trend_down', True)\n",
    "        }\n",
    "        super(DualEMA, self).__init__(*args, **kwargs)\n",
    "        self.dbhandler = dbhandler\n",
    "        self.sids = self.dbhandler.stock.ids\n",
    "        \n",
    "    @property\n",
    "    def cfg(self):\n",
    "        return self._cfg\n",
    "\n",
    "    def initialize(self, *args, **kwargs):\n",
    "        super(DualEMA, self).initialize(args, kwargs)        \n",
    "        self.asset = self.symbol(self.sids[0]) \n",
    "        self.window = deque(maxlen=self._cfg['buf_win'])\n",
    "        self.invested_buy = False\n",
    "        self.invested_sell = False\n",
    "        self.buy = False\n",
    "        self.sell = False\n",
    "        self.buy_hold = 0\n",
    "        self.sell_hold = 0\n",
    "        \n",
    "    def handle_data(self, data):\n",
    "        super(DualEMA, self).handle_data(data)\n",
    "        self.window.append((\n",
    "            data[self.asset].open,\n",
    "            data[self.asset].high,\n",
    "            data[self.asset].low,\n",
    "            data[self.asset].close,\n",
    "            data[self.asset].volume\n",
    "        ))\n",
    "\n",
    "        if len(self.window) == self._cfg['buf_win']:\n",
    "            open, high, low, close, volume = [np.array(i) for i in zip(*self.window)]\n",
    "            short_ema = talib.EMA(close, timeperiod=self._cfg['short_ema_win'])\n",
    "            long_ema = talib.EMA(close, timeperiod=self._cfg['long_ema_win'])\n",
    "            real_obv = talib.OBV(close, np.asarray(volume, dtype='float'))\n",
    "\n",
    "            self.buy_hold = self.buy_hold - 1 if self.buy_hold > 0 else self.buy_hold\n",
    "            self.sell_hold = self.sell_hold - 1 if self.sell_hold > 0 else self.sell_hold\n",
    "            self.buy = False\n",
    "            self.sell = False\n",
    "\n",
    "            # sell after buy\n",
    "            if self._cfg['trend_up']:\n",
    "                if short_ema[-1] > long_ema[-1] and not self.invested_buy:\n",
    "                    self.order(self.asset, self._cfg['buy_amount'])\n",
    "                    self.invested_buy = True\n",
    "                    self.buy = True\n",
    "                    self.buy_hold = self._cfg['buy_hold']\n",
    "                elif self.invested_buy == True and self.buy_hold == 0:\n",
    "                    self.order(self.asset, -self._cfg['buy_amount'])\n",
    "                    self.invested_buy = False\n",
    "                    self.sell = True\n",
    "\n",
    "            # buy after sell\n",
    "            if self._cfg['trend_down']:\n",
    "                if short_ema[-1] < long_ema[-1] and not self.invested_sell:\n",
    "                    self.order(self.asset, -self._cfg['sell_amount'])\n",
    "                    self.invested_sell = True\n",
    "                    self.sell = True\n",
    "                    self.sell_hold = self._cfg['sell_hold']\n",
    "                elif self.invested_sell == True  and self.sell_hold == 0:\n",
    "                    self.order(self.asset, self._cfg['sell_amount'])\n",
    "                    self.invested_sell = False\n",
    "                    self.buy = True\n",
    "\n",
    "            # save to recorder\n",
    "            signals = {\n",
    "                'open': open[-1],\n",
    "                'high': high[-1],\n",
    "                'low': low[-1],\n",
    "                'close': close[-1],\n",
    "                'volume': volume[-1],\n",
    "                'short_ema': short_ema[-1],\n",
    "                'long_ema': long_ema[-1],\n",
    "                'buy': self.buy,\n",
    "                'sell': self.sell\n",
    "            }\n",
    "            self.record(**signals)\n",
    "\n",
    "# register to alg tasks\n",
    "AlgRegister.add(DualEMA)"
   ]
  },
  {
   "cell_type": "code",
   "execution_count": 14,
   "metadata": {
    "collapsed": false
   },
   "outputs": [
    {
     "name": "stderr",
     "output_type": "stream",
     "text": [
      "/Users/seanchen/anaconda2/lib/python2.7/site-packages/ipykernel/__main__.py:40: ZiplineDeprecationWarning: `data[sid(N)]` is deprecated. Use `data.current`.\n",
      "/Users/seanchen/anaconda2/lib/python2.7/site-packages/ipykernel/__main__.py:41: ZiplineDeprecationWarning: `data[sid(N)]` is deprecated. Use `data.current`.\n",
      "/Users/seanchen/anaconda2/lib/python2.7/site-packages/ipykernel/__main__.py:42: ZiplineDeprecationWarning: `data[sid(N)]` is deprecated. Use `data.current`.\n",
      "/Users/seanchen/anaconda2/lib/python2.7/site-packages/ipykernel/__main__.py:43: ZiplineDeprecationWarning: `data[sid(N)]` is deprecated. Use `data.current`.\n",
      "/Users/seanchen/anaconda2/lib/python2.7/site-packages/ipykernel/__main__.py:44: ZiplineDeprecationWarning: `data[sid(N)]` is deprecated. Use `data.current`.\n"
     ]
    },
    {
     "data": {
      "text/html": [
       "<table border=\"1\" class=\"dataframe\">\n",
       "  <thead>\n",
       "    <tr style=\"text-align: right;\">\n",
       "      <th></th>\n",
       "      <th>algo_volatility</th>\n",
       "      <th>algorithm_period_return</th>\n",
       "      <th>alpha</th>\n",
       "      <th>benchmark_period_return</th>\n",
       "      <th>benchmark_volatility</th>\n",
       "      <th>beta</th>\n",
       "      <th>buy</th>\n",
       "      <th>capital_used</th>\n",
       "      <th>close</th>\n",
       "      <th>ending_cash</th>\n",
       "      <th>ending_exposure</th>\n",
       "      <th>ending_value</th>\n",
       "      <th>excess_return</th>\n",
       "      <th>gross_leverage</th>\n",
       "      <th>high</th>\n",
       "      <th>information</th>\n",
       "      <th>long_ema</th>\n",
       "      <th>long_exposure</th>\n",
       "      <th>long_value</th>\n",
       "      <th>longs_count</th>\n",
       "      <th>low</th>\n",
       "      <th>max_drawdown</th>\n",
       "      <th>max_leverage</th>\n",
       "      <th>net_leverage</th>\n",
       "      <th>open</th>\n",
       "      <th>orders</th>\n",
       "      <th>period_close</th>\n",
       "      <th>period_label</th>\n",
       "      <th>period_open</th>\n",
       "      <th>pnl</th>\n",
       "      <th>portfolio_value</th>\n",
       "      <th>positions</th>\n",
       "      <th>returns</th>\n",
       "      <th>sell</th>\n",
       "      <th>sharpe</th>\n",
       "      <th>short_ema</th>\n",
       "      <th>short_exposure</th>\n",
       "      <th>short_value</th>\n",
       "      <th>shorts_count</th>\n",
       "      <th>sortino</th>\n",
       "      <th>starting_cash</th>\n",
       "      <th>starting_exposure</th>\n",
       "      <th>starting_value</th>\n",
       "      <th>trading_days</th>\n",
       "      <th>transactions</th>\n",
       "      <th>treasury_period_return</th>\n",
       "      <th>volume</th>\n",
       "    </tr>\n",
       "  </thead>\n",
       "  <tbody>\n",
       "    <tr>\n",
       "      <th>2016-08-31 20:00:00</th>\n",
       "      <td>0.000267</td>\n",
       "      <td>-0.000094</td>\n",
       "      <td>-0.000780</td>\n",
       "      <td>0.003314</td>\n",
       "      <td>0.053961</td>\n",
       "      <td>0.000672</td>\n",
       "      <td>False</td>\n",
       "      <td>-88009.357169</td>\n",
       "      <td>88.0</td>\n",
       "      <td>11990.642831</td>\n",
       "      <td>88000</td>\n",
       "      <td>88000</td>\n",
       "      <td>-0.015894</td>\n",
       "      <td>0.880082</td>\n",
       "      <td>88.9</td>\n",
       "      <td>-0.033949</td>\n",
       "      <td>87.764921</td>\n",
       "      <td>88000</td>\n",
       "      <td>88000</td>\n",
       "      <td>1</td>\n",
       "      <td>88.0</td>\n",
       "      <td>-0.000094</td>\n",
       "      <td>0</td>\n",
       "      <td>0.880082</td>\n",
       "      <td>88.7</td>\n",
       "      <td>[{u'status': 1, u'created': 2016-08-30 20:00:0...</td>\n",
       "      <td>2016-08-31 20:00:00+00:00</td>\n",
       "      <td>2016-08</td>\n",
       "      <td>2016-08-31 13:31:00+00:00</td>\n",
       "      <td>-9.357169</td>\n",
       "      <td>99990.642831</td>\n",
       "      <td>[{u'amount': 1000, u'last_sale_price': 88.0, u...</td>\n",
       "      <td>-0.000094</td>\n",
       "      <td>False</td>\n",
       "      <td>-2.851146</td>\n",
       "      <td>88.034565</td>\n",
       "      <td>0</td>\n",
       "      <td>0</td>\n",
       "      <td>0</td>\n",
       "      <td>-2.851146</td>\n",
       "      <td>100000.000000</td>\n",
       "      <td>0</td>\n",
       "      <td>0</td>\n",
       "      <td>31</td>\n",
       "      <td>[{u'commission': None, u'amount': 1000, u'sid'...</td>\n",
       "      <td>0.0158</td>\n",
       "      <td>68836</td>\n",
       "    </tr>\n",
       "    <tr>\n",
       "      <th>2016-09-01 20:00:00</th>\n",
       "      <td>0.016833</td>\n",
       "      <td>-0.006094</td>\n",
       "      <td>-0.048079</td>\n",
       "      <td>0.003272</td>\n",
       "      <td>0.053086</td>\n",
       "      <td>0.003247</td>\n",
       "      <td>False</td>\n",
       "      <td>0.000000</td>\n",
       "      <td>87.4</td>\n",
       "      <td>11990.642831</td>\n",
       "      <td>87400</td>\n",
       "      <td>87400</td>\n",
       "      <td>-0.021794</td>\n",
       "      <td>0.879358</td>\n",
       "      <td>87.8</td>\n",
       "      <td>-0.085181</td>\n",
       "      <td>87.782064</td>\n",
       "      <td>87400</td>\n",
       "      <td>87400</td>\n",
       "      <td>1</td>\n",
       "      <td>86.8</td>\n",
       "      <td>-0.006094</td>\n",
       "      <td>0</td>\n",
       "      <td>0.879358</td>\n",
       "      <td>87.2</td>\n",
       "      <td>[]</td>\n",
       "      <td>2016-09-01 20:00:00+00:00</td>\n",
       "      <td>2016-09</td>\n",
       "      <td>2016-09-01 13:31:00+00:00</td>\n",
       "      <td>-600.000000</td>\n",
       "      <td>99390.642831</td>\n",
       "      <td>[{u'amount': 1000, u'last_sale_price': 87.4, u...</td>\n",
       "      <td>-0.006001</td>\n",
       "      <td>False</td>\n",
       "      <td>-2.851091</td>\n",
       "      <td>87.875938</td>\n",
       "      <td>0</td>\n",
       "      <td>0</td>\n",
       "      <td>0</td>\n",
       "      <td>-2.849657</td>\n",
       "      <td>11990.642831</td>\n",
       "      <td>88000</td>\n",
       "      <td>88000</td>\n",
       "      <td>32</td>\n",
       "      <td>[]</td>\n",
       "      <td>0.0157</td>\n",
       "      <td>103889</td>\n",
       "    </tr>\n",
       "    <tr>\n",
       "      <th>2016-09-02 20:00:00</th>\n",
       "      <td>0.283553</td>\n",
       "      <td>-0.108094</td>\n",
       "      <td>-0.765027</td>\n",
       "      <td>0.007487</td>\n",
       "      <td>0.053460</td>\n",
       "      <td>-1.117295</td>\n",
       "      <td>False</td>\n",
       "      <td>0.000000</td>\n",
       "      <td>77.2</td>\n",
       "      <td>11990.642831</td>\n",
       "      <td>77200</td>\n",
       "      <td>77200</td>\n",
       "      <td>-0.124094</td>\n",
       "      <td>0.865562</td>\n",
       "      <td>77.9</td>\n",
       "      <td>-0.186950</td>\n",
       "      <td>86.826146</td>\n",
       "      <td>77200</td>\n",
       "      <td>77200</td>\n",
       "      <td>1</td>\n",
       "      <td>76.3</td>\n",
       "      <td>-0.108094</td>\n",
       "      <td>0</td>\n",
       "      <td>0.865562</td>\n",
       "      <td>76.6</td>\n",
       "      <td>[{u'status': 0, u'created': 2016-09-02 20:00:0...</td>\n",
       "      <td>2016-09-02 20:00:00+00:00</td>\n",
       "      <td>2016-09</td>\n",
       "      <td>2016-09-02 13:31:00+00:00</td>\n",
       "      <td>-10200.000000</td>\n",
       "      <td>89190.642831</td>\n",
       "      <td>[{u'amount': 1000, u'last_sale_price': 77.2, u...</td>\n",
       "      <td>-0.102625</td>\n",
       "      <td>True</td>\n",
       "      <td>-2.927926</td>\n",
       "      <td>85.207040</td>\n",
       "      <td>0</td>\n",
       "      <td>0</td>\n",
       "      <td>0</td>\n",
       "      <td>-2.922501</td>\n",
       "      <td>11990.642831</td>\n",
       "      <td>87400</td>\n",
       "      <td>87400</td>\n",
       "      <td>33</td>\n",
       "      <td>[]</td>\n",
       "      <td>0.0160</td>\n",
       "      <td>158664</td>\n",
       "    </tr>\n",
       "    <tr>\n",
       "      <th>2016-09-06 20:00:00</th>\n",
       "      <td>0.292765</td>\n",
       "      <td>-0.082199</td>\n",
       "      <td>-0.522744</td>\n",
       "      <td>0.010491</td>\n",
       "      <td>0.053174</td>\n",
       "      <td>-0.862095</td>\n",
       "      <td>False</td>\n",
       "      <td>79789.434594</td>\n",
       "      <td>79.8</td>\n",
       "      <td>91780.077426</td>\n",
       "      <td>0</td>\n",
       "      <td>0</td>\n",
       "      <td>-0.097699</td>\n",
       "      <td>0.000000</td>\n",
       "      <td>79.9</td>\n",
       "      <td>-0.137959</td>\n",
       "      <td>86.203198</td>\n",
       "      <td>0</td>\n",
       "      <td>0</td>\n",
       "      <td>0</td>\n",
       "      <td>78.6</td>\n",
       "      <td>-0.108094</td>\n",
       "      <td>0</td>\n",
       "      <td>0.000000</td>\n",
       "      <td>78.8</td>\n",
       "      <td>[{u'status': 1, u'created': 2016-09-02 20:00:0...</td>\n",
       "      <td>2016-09-06 20:00:00+00:00</td>\n",
       "      <td>2016-09</td>\n",
       "      <td>2016-09-06 13:31:00+00:00</td>\n",
       "      <td>2589.434594</td>\n",
       "      <td>91780.077426</td>\n",
       "      <td>[]</td>\n",
       "      <td>0.029033</td>\n",
       "      <td>False</td>\n",
       "      <td>-2.017388</td>\n",
       "      <td>83.855552</td>\n",
       "      <td>0</td>\n",
       "      <td>0</td>\n",
       "      <td>0</td>\n",
       "      <td>-2.110337</td>\n",
       "      <td>11990.642831</td>\n",
       "      <td>77200</td>\n",
       "      <td>77200</td>\n",
       "      <td>34</td>\n",
       "      <td>[{u'commission': None, u'amount': -1000, u'sid...</td>\n",
       "      <td>0.0155</td>\n",
       "      <td>51022</td>\n",
       "    </tr>\n",
       "    <tr>\n",
       "      <th>2016-09-07 20:00:00</th>\n",
       "      <td>0.288496</td>\n",
       "      <td>-0.082199</td>\n",
       "      <td>-0.508541</td>\n",
       "      <td>0.010343</td>\n",
       "      <td>0.052400</td>\n",
       "      <td>-0.864439</td>\n",
       "      <td>False</td>\n",
       "      <td>0.000000</td>\n",
       "      <td>79.5</td>\n",
       "      <td>91780.077426</td>\n",
       "      <td>0</td>\n",
       "      <td>0</td>\n",
       "      <td>-0.097599</td>\n",
       "      <td>0.000000</td>\n",
       "      <td>80.8</td>\n",
       "      <td>-0.135770</td>\n",
       "      <td>85.596830</td>\n",
       "      <td>0</td>\n",
       "      <td>0</td>\n",
       "      <td>0</td>\n",
       "      <td>79.5</td>\n",
       "      <td>-0.108094</td>\n",
       "      <td>0</td>\n",
       "      <td>0.000000</td>\n",
       "      <td>80.4</td>\n",
       "      <td>[{u'status': 0, u'created': 2016-09-07 20:00:0...</td>\n",
       "      <td>2016-09-07 20:00:00+00:00</td>\n",
       "      <td>2016-09</td>\n",
       "      <td>2016-09-07 13:31:00+00:00</td>\n",
       "      <td>0.000000</td>\n",
       "      <td>91780.077426</td>\n",
       "      <td>[]</td>\n",
       "      <td>0.000000</td>\n",
       "      <td>True</td>\n",
       "      <td>-1.988747</td>\n",
       "      <td>82.766822</td>\n",
       "      <td>0</td>\n",
       "      <td>0</td>\n",
       "      <td>0</td>\n",
       "      <td>-2.079971</td>\n",
       "      <td>91780.077426</td>\n",
       "      <td>0</td>\n",
       "      <td>0</td>\n",
       "      <td>35</td>\n",
       "      <td>[]</td>\n",
       "      <td>0.0154</td>\n",
       "      <td>59399</td>\n",
       "    </tr>\n",
       "  </tbody>\n",
       "</table>"
      ],
      "text/plain": [
       "<IPython.core.display.HTML object>"
      ]
     },
     "execution_count": 14,
     "metadata": {},
     "output_type": "execute_result"
    }
   ],
   "source": [
    "def test_alg_benchmark(opt='twse', debug=True, limit=0):   \n",
    "    maxlen = 10\n",
    "    starttime = datetime.utcnow() - timedelta(days=60)\n",
    "    endtime = datetime.utcnow() - timedelta(days=10)\n",
    "        \n",
    "    report = Report(\n",
    "        'dualema',\n",
    "        sort=[('buys', False), ('sells', False), ('portfolio_value', False)], limit=20)\n",
    "\n",
    "    kwargs = {\n",
    "        'debug': debug,\n",
    "        'limit': limit,\n",
    "        'opt': opt\n",
    "    }\n",
    "    # fetch all stockids\n",
    "    idhandler = TwseIdDBHandler(**kwargs)\n",
    "    stockids = [stockid for stockid in idhandler.stock.get_ids()]\n",
    "    for stockid in stockids:\n",
    "        try:\n",
    "            kwargs = {\n",
    "                'opt': opt,\n",
    "                'targets': ['stock'],\n",
    "                'starttime': starttime,\n",
    "                'endtime': endtime,\n",
    "                'stockids': [stockid],\n",
    "                'traderids': [],\n",
    "                'base': 'stock',\n",
    "                'callback': None,\n",
    "                'limit': 1,\n",
    "                'debug': debug\n",
    "            }\n",
    "            panel, dbhandler = collect_hisframe(**kwargs)\n",
    "            if len(panel[stockid].index) < maxlen:\n",
    "                continue\n",
    "           \n",
    "            dualema = DualEMA(dbhandler=dbhandler, **{'symbol':stockid})\n",
    "            results = dualema.run(panel)\n",
    "            risks = dualema.perf_tracker.handle_simulation_end()  \n",
    "            report.collect(stockid, results, risks)    \n",
    "            \n",
    "        except:\n",
    "            print traceback.format_exc()\n",
    "            continue\n",
    "        \n",
    "        return report\n",
    "\n",
    "# run \n",
    "report = test_alg_benchmark()\n",
    "pool = report.pool\n",
    "results = pool['2317'].dropna()\n",
    "HTML(results.to_html())"
   ]
  },
  {
   "cell_type": "code",
   "execution_count": null,
   "metadata": {
    "collapsed": false
   },
   "outputs": [],
   "source": [
    "returns, positions, transactions, gross_lev = pf.utils.extract_rets_pos_txn_from_zipline(results)\n",
    "pf.plot_drawdown_periods(returns, top=5).set_xlabel('Date')"
   ]
  },
  {
   "cell_type": "code",
   "execution_count": null,
   "metadata": {
    "collapsed": false
   },
   "outputs": [],
   "source": [
    "pf.create_full_tear_sheet(returns, positions=positions, transactions=transactions,\n",
    "                          gross_lev=gross_lev, live_start_date='2016-08-31', round_trips=True)"
   ]
  },
  {
   "cell_type": "code",
   "execution_count": null,
   "metadata": {
    "collapsed": true
   },
   "outputs": [],
   "source": []
  }
 ],
 "metadata": {
  "anaconda-cloud": {},
  "kernelspec": {
   "display_name": "Python [Root]",
   "language": "python",
   "name": "Python [Root]"
  },
  "language_info": {
   "codemirror_mode": {
    "name": "ipython",
    "version": 2
   },
   "file_extension": ".py",
   "mimetype": "text/x-python",
   "name": "python",
   "nbconvert_exporter": "python",
   "pygments_lexer": "ipython2",
   "version": "2.7.12"
  }
 },
 "nbformat": 4,
 "nbformat_minor": 0
}
