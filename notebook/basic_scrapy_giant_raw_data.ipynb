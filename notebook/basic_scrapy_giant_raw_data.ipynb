{
 "cells": [
  {
   "cell_type": "code",
   "execution_count": 1,
   "metadata": {
    "collapsed": false
   },
   "outputs": [],
   "source": [
    "# preload database by scrapy crawler\n",
    "# start rabbitmq-server, mongodb, celery, django manager.py\n",
    "#manual run\n",
    "#!scrapy crawl twseid --loglevel=DEBUG --logfile=./log/test_twseid.log -s LOG_ENABLED=1 -s GIANT_LIMIT=1 -s GIANT_DEBUG=1\n",
    "#!scrapy crawl twsehisstock --loglevel=DEBUG --logfile=./log/test_twsehisstock.log -s LOG_ENABLED=1 -s GIANT_LIMIT=1 -s GIANT_DEBUG=1\n",
    "#!scrapy crawl twsehistrader --loglevel=DEBUG --logfile=./log/test_twsehistrader.log -s LOG_ENABLED=1 -s GIANT_LIMIT=1 -s GIANT_DEBUG=1\n",
    "#!scrapy crawl twsehiscredit --loglevel=DEBUG --logfile=./log/test_twsehiscredit.log -s LOG_ENABLED=1 -s GIANT_LIMIT=1 -s GIANT_DEBUG=1"
   ]
  },
  {
   "cell_type": "code",
   "execution_count": 2,
   "metadata": {
    "collapsed": false
   },
   "outputs": [],
   "source": [
    "#import scrapy_giant + zipline + profilo\n",
    "# ref: http://nbviewer.jupyter.org/github/CamDavidsonPilon/Probabilistic-Programming-and-Bayesian-Methods-for-Hackers/blob/master/Chapter1_Introduction/Chapter1.ipynb\n",
    "\n",
    "import pytz\n",
    "import matplotlib.pyplot as plt\n",
    "import numpy as np\n",
    "import talib\n",
    "import traceback\n",
    "import pandas as pd\n",
    "\n",
    "from zipline.algorithm import TradingAlgorithm\n",
    "from zipline.utils.factory import *\n",
    "from zipline.finance.trading import SimulationParameters\n",
    "\n",
    "# Import exponential moving average from talib wrapper\n",
    "# ref: http://mrjbq7.github.io/ta-lib/doc_index.html\n",
    "\n",
    "from datetime import datetime, timedelta\n",
    "from collections import deque\n",
    "\n",
    "from bin.mongodb_driver import *\n",
    "from bin.start import *\n",
    "from handler.tasks import collect_hisframe\n",
    "from handler.hisdb_handler import TwseHisDBHandler, OtcHisDBHandler\n",
    "from handler.iddb_handler import TwseIdDBHandler, OtcIdDBHandler\n",
    "\n",
    "from algorithm.report import Report\n",
    "from algorithm.register import AlgRegister"
   ]
  },
  {
   "cell_type": "code",
   "execution_count": 3,
   "metadata": {
    "collapsed": false
   },
   "outputs": [
    {
     "name": "stdout",
     "output_type": "stream",
     "text": [
      "['2317', '1314', '2330']\n"
     ]
    }
   ],
   "source": [
    "kwargs = {\n",
    "    'debug': True,\n",
    "    'limit': 2,\n",
    "    'opt': 'twse'\n",
    "}\n",
    "\n",
    "idhandler = TwseIdDBHandler(**kwargs)  \n",
    "stockids = idhandler.stock.get_ids()\n",
    "print [symbol for symbol in stockids]"
   ]
  },
  {
   "cell_type": "code",
   "execution_count": 4,
   "metadata": {
    "collapsed": false
   },
   "outputs": [
    {
     "name": "stdout",
     "output_type": "stream",
     "text": [
      "                           close  high   low  open  price   volume\n",
      "2016-09-06 00:00:00+00:00   79.8  79.9  78.6  78.8   79.8  51022.0\n",
      "2016-09-07 00:00:00+00:00   79.5  80.8  79.5  80.4   79.5  59399.0\n",
      "2016-09-08 00:00:00+00:00   78.5  79.7  78.5  79.6   78.5  50257.0\n",
      "2016-09-09 00:00:00+00:00   77.7  77.9  77.5  77.8   77.7  36760.0\n"
     ]
    }
   ],
   "source": [
    "starttime = datetime.utcnow() - timedelta(days=10)\n",
    "endtime = datetime.utcnow()\n",
    "opt, stockid = 'twse', '2317'\n",
    "\n",
    "# get hisstock default raw data \n",
    "kwargs = {\n",
    "    'opt': opt,\n",
    "    'targets': ['stock'],\n",
    "    'starttime': starttime,\n",
    "    'endtime': endtime,\n",
    "    'stockids': [stockid],\n",
    "    'traderids': [],\n",
    "    'base': 'stock',\n",
    "    'callback': None,\n",
    "    'limit': 1,\n",
    "    'debug': True\n",
    "}\n",
    "st_panel, dbhandler = collect_hisframe(**kwargs)\n",
    "if not st_panel.empty:\n",
    "    print st_panel[stockid].tail(4)"
   ]
  },
  {
   "cell_type": "code",
   "execution_count": 5,
   "metadata": {
    "collapsed": false
   },
   "outputs": [
    {
     "name": "stdout",
     "output_type": "stream",
     "text": [
      "                           top0_buyratio  top1_buyratio\n",
      "2016-09-08 00:00:00+00:00           0.55           0.03\n",
      "2016-09-09 00:00:00+00:00           0.22           0.00\n",
      "[('top0', u'8440', '\\xe6\\x91\\xa9\\xe6\\xa0\\xb9\\xe5\\xa4\\xa7\\xe9\\x80\\x9a'), ('top1', u'1380', '\\xe6\\x9d\\xb1\\xe6\\x96\\xb9\\xe5\\x8c\\xaf\\xe7\\x90\\x86'), ('top2', u'1440', '\\xe7\\xbe\\x8e\\xe6\\x9e\\x97')]\n"
     ]
    }
   ],
   "source": [
    "# get hisstock trader raw data\n",
    "kwargs = {\n",
    "    'opt': opt,\n",
    "    'targets': ['trader'],\n",
    "    'starttime': starttime,\n",
    "    'endtime': endtime,\n",
    "    'stockids': [stockid],\n",
    "    'traderids': [],\n",
    "    'base': 'stock',\n",
    "    'constraint': lambda x: x.value[\"ebuyratio\"] > 10 or x.value[\"totalkeepbuy\"] >= 1,\n",
    "    'order': lambda x: [-x.value[\"totalvolume\"], -x.value[\"totalbuyratio\"]],\n",
    "    'callback': None,\n",
    "    'limit': 10,\n",
    "    'debug': True\n",
    "}\n",
    "trb_panel, dbhandler = collect_hisframe(**kwargs)\n",
    "if not trb_panel.empty:\n",
    "    print trb_panel[stockid].tail(4).loc[:,lambda df: ['top0_buyratio', 'top1_buyratio']]\n",
    "\n",
    "bst_traders = []\n",
    "if dbhandler: \n",
    "    # map attr to physical traderid \n",
    "    tops = list(dbhandler.trader.get_alias([stockid], 'trader', [\"top%d\" %i for i in range(10)]))\n",
    "    \n",
    "    for i, top in enumerate(tops):\n",
    "        if idhandler.trader.has_id(top):\n",
    "            bst_traders.append(\n",
    "                (\"top{0}\".format(i), top, \"{0}\".format(idhandler.trader.get_name(top).encode('utf-8')))\n",
    "            )\n",
    "    print bst_traders"
   ]
  },
  {
   "cell_type": "code",
   "execution_count": 6,
   "metadata": {
    "collapsed": false
   },
   "outputs": [
    {
     "name": "stdout",
     "output_type": "stream",
     "text": [
      "                           top0_sellratio  top1_sellratio  top2_sellratio\n",
      "2016-09-08 00:00:00+00:00           13.84             NaN             NaN\n",
      "2016-09-09 00:00:00+00:00            7.39             NaN             NaN\n",
      "[('top0', u'2317', '\\xe9\\xb4\\xbb\\xe6\\xb5\\xb7')]\n"
     ]
    }
   ],
   "source": [
    "traderid = bst_traders[0][1]\n",
    "\n",
    "# find cross map table bwteen trader and stock \n",
    "kwargs = {\n",
    "    'opt': opt,\n",
    "    'targets': ['trader'],\n",
    "    'starttime': starttime,\n",
    "    'endtime': endtime,\n",
    "    'stockids': [],\n",
    "    'traderids': [traderid],\n",
    "    'base': 'trader',\n",
    "    'constraint': lambda x: x.value[\"ebuyratio\"] > 10 or x.value[\"totalkeepbuy\"] >= 1,\n",
    "    'order': lambda x: [-x.value[\"totalvolume\"], -x.value[\"totalbuyratio\"]],\n",
    "    'callback': None,\n",
    "    'limit': 10,\n",
    "    'debug': True\n",
    "}\n",
    "stb_panel, dbhandler = collect_hisframe(**kwargs)\n",
    "if not stb_panel.empty:\n",
    "    print stb_panel[stockid].tail(4).loc[:,lambda df: ['top0_sellratio', 'top1_sellratio', 'top2_sellratio']]\n",
    "\n",
    "bst_stocks = []\n",
    "if dbhandler: \n",
    "    # map attr to physical stockid\n",
    "    tops = list(dbhandler.trader.get_alias([traderid], 'stock', [\"top%d\" %i for i in range(10)]))\n",
    "    \n",
    "    for i, top in enumerate(tops):\n",
    "        if idhandler.stock.has_id(top):\n",
    "            bst_stocks.append(\n",
    "                (\"top{0}\".format(i), top, \"{0}\".format(idhandler.stock.get_name(top).encode('utf-8')))\n",
    "            )\n",
    "    print bst_stocks    "
   ]
  },
  {
   "cell_type": "code",
   "execution_count": 7,
   "metadata": {
    "collapsed": false
   },
   "outputs": [
    {
     "name": "stdout",
     "output_type": "stream",
     "text": [
      "                           bearfinaratio  bearishbuyvolume  bearishremain  \\\n",
      "2016-09-09 00:00:00+00:00            5.5             363.0           0.11   \n",
      "\n",
      "                           bearishsellvolume  bearishtrend  financebuyvolume  \\\n",
      "2016-09-09 00:00:00+00:00              195.0         -0.04            2300.0   \n",
      "\n",
      "                           financeremain  financesellvolume  financetrend  \n",
      "2016-09-09 00:00:00+00:00           1.92             2020.0           0.0  \n"
     ]
    }
   ],
   "source": [
    "# get hisstock credit raw data\n",
    "kwargs = {\n",
    "    'opt': opt,\n",
    "    'targets': ['credit'],\n",
    "    'starttime': datetime.utcnow() - timedelta(days=5),\n",
    "    'endtime': datetime.utcnow(),\n",
    "    'stockids': [stockid],\n",
    "    'base': 'stock',\n",
    "    'constraint': lambda x: x.value[\"efinanceremain\"] > 0 or x.value[\"ebearfinaratio\"] > 0,\n",
    "    'order': lambda x: [-x.value[\"ebearfinaratio\"], -x.value[\"totalfinanceremain\"]],\n",
    "    'limit': 2,\n",
    "    'debug': True\n",
    "}\n",
    "crt_panel, dbhandler = collect_hisframe(**kwargs)\n",
    "if not crt_panel.empty:\n",
    "    print crt_panel[stockid].tail(4).loc[:]"
   ]
  },
  {
   "cell_type": "code",
   "execution_count": 8,
   "metadata": {
    "collapsed": false
   },
   "outputs": [
    {
     "name": "stdout",
     "output_type": "stream",
     "text": [
      "                           close  high   low  open  price    volume  \\\n",
      "2016-08-31 00:00:00+00:00   88.0  88.9  88.0  88.7   88.0   68836.0   \n",
      "2016-09-01 00:00:00+00:00   87.4  87.8  86.8  87.2   87.4  103889.0   \n",
      "2016-09-02 00:00:00+00:00   77.2  77.9  76.3  76.6   77.2  158664.0   \n",
      "2016-09-05 00:00:00+00:00   78.2  78.4  77.6  77.9   78.2   44625.0   \n",
      "2016-09-06 00:00:00+00:00   79.8  79.9  78.6  78.8   79.8   51022.0   \n",
      "2016-09-07 00:00:00+00:00   79.5  80.8  79.5  80.4   79.5   59399.0   \n",
      "2016-09-08 00:00:00+00:00   78.5  79.7  78.5  79.6   78.5   50257.0   \n",
      "2016-09-09 00:00:00+00:00   77.7  77.9  77.5  77.8   77.7   36760.0   \n",
      "\n",
      "                           top0_avgbuyprice  top0_avgsellprice  top0_buyratio  \\\n",
      "2016-08-31 00:00:00+00:00               NaN                NaN            NaN   \n",
      "2016-09-01 00:00:00+00:00               NaN                NaN            NaN   \n",
      "2016-09-02 00:00:00+00:00               NaN                NaN            NaN   \n",
      "2016-09-05 00:00:00+00:00               NaN                NaN            NaN   \n",
      "2016-09-06 00:00:00+00:00               NaN                NaN            NaN   \n",
      "2016-09-07 00:00:00+00:00               NaN                NaN            NaN   \n",
      "2016-09-08 00:00:00+00:00              79.0               78.0           0.55   \n",
      "2016-09-09 00:00:00+00:00              77.0               77.0           0.22   \n",
      "\n",
      "                           top0_buyvolume      ...       top2_sellvolume  \\\n",
      "2016-08-31 00:00:00+00:00             NaN      ...                   NaN   \n",
      "2016-09-01 00:00:00+00:00             NaN      ...                   NaN   \n",
      "2016-09-02 00:00:00+00:00             NaN      ...                   NaN   \n",
      "2016-09-05 00:00:00+00:00             NaN      ...                   NaN   \n",
      "2016-09-06 00:00:00+00:00             NaN      ...                   NaN   \n",
      "2016-09-07 00:00:00+00:00             NaN      ...                   NaN   \n",
      "2016-09-08 00:00:00+00:00           274.0      ...                   0.0   \n",
      "2016-09-09 00:00:00+00:00            81.0      ...                1956.0   \n",
      "\n",
      "                           bearfinaratio  bearishbuyvolume  bearishremain  \\\n",
      "2016-08-31 00:00:00+00:00            NaN               NaN            NaN   \n",
      "2016-09-01 00:00:00+00:00            NaN               NaN            NaN   \n",
      "2016-09-02 00:00:00+00:00            NaN               NaN            NaN   \n",
      "2016-09-05 00:00:00+00:00            NaN               NaN            NaN   \n",
      "2016-09-06 00:00:00+00:00            NaN               NaN            NaN   \n",
      "2016-09-07 00:00:00+00:00            NaN               NaN            NaN   \n",
      "2016-09-08 00:00:00+00:00            NaN               NaN            NaN   \n",
      "2016-09-09 00:00:00+00:00            5.5             363.0           0.11   \n",
      "\n",
      "                           bearishsellvolume  bearishtrend  financebuyvolume  \\\n",
      "2016-08-31 00:00:00+00:00                NaN           NaN               NaN   \n",
      "2016-09-01 00:00:00+00:00                NaN           NaN               NaN   \n",
      "2016-09-02 00:00:00+00:00                NaN           NaN               NaN   \n",
      "2016-09-05 00:00:00+00:00                NaN           NaN               NaN   \n",
      "2016-09-06 00:00:00+00:00                NaN           NaN               NaN   \n",
      "2016-09-07 00:00:00+00:00                NaN           NaN               NaN   \n",
      "2016-09-08 00:00:00+00:00                NaN           NaN               NaN   \n",
      "2016-09-09 00:00:00+00:00              195.0         -0.04            2300.0   \n",
      "\n",
      "                           financeremain  financesellvolume  financetrend  \n",
      "2016-08-31 00:00:00+00:00            NaN                NaN           NaN  \n",
      "2016-09-01 00:00:00+00:00            NaN                NaN           NaN  \n",
      "2016-09-02 00:00:00+00:00            NaN                NaN           NaN  \n",
      "2016-09-05 00:00:00+00:00            NaN                NaN           NaN  \n",
      "2016-09-06 00:00:00+00:00            NaN                NaN           NaN  \n",
      "2016-09-07 00:00:00+00:00            NaN                NaN           NaN  \n",
      "2016-09-08 00:00:00+00:00            NaN                NaN           NaN  \n",
      "2016-09-09 00:00:00+00:00           1.92             2020.0           0.0  \n",
      "\n",
      "[8 rows x 39 columns]\n"
     ]
    }
   ],
   "source": [
    "# find cross correlation weight distance between each raw feature\n",
    "# merge each raw frame into one\n",
    "mdf = pd.concat([st_panel[stockid], trb_panel[stockid], crt_panel[stockid]], axis=1)\n",
    "print mdf"
   ]
  },
  {
   "cell_type": "code",
   "execution_count": 9,
   "metadata": {
    "collapsed": true
   },
   "outputs": [],
   "source": [
    "# find"
   ]
  },
  {
   "cell_type": "code",
   "execution_count": null,
   "metadata": {
    "collapsed": true
   },
   "outputs": [],
   "source": []
  }
 ],
 "metadata": {
  "anaconda-cloud": {},
  "kernelspec": {
   "display_name": "Python [Root]",
   "language": "python",
   "name": "Python [Root]"
  },
  "language_info": {
   "codemirror_mode": {
    "name": "ipython",
    "version": 2
   },
   "file_extension": ".py",
   "mimetype": "text/x-python",
   "name": "python",
   "nbconvert_exporter": "python",
   "pygments_lexer": "ipython2",
   "version": "2.7.12"
  }
 },
 "nbformat": 4,
 "nbformat_minor": 0
}
